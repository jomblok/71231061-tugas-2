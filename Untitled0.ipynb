{
  "nbformat": 4,
  "nbformat_minor": 0,
  "metadata": {
    "colab": {
      "provenance": []
    },
    "kernelspec": {
      "name": "python3",
      "display_name": "Python 3"
    },
    "language_info": {
      "name": "python"
    }
  },
  "cells": [
    {
      "cell_type": "markdown",
      "source": [
        "NO 1\n"
      ],
      "metadata": {
        "id": "9aqY5bM8h_SB"
      }
    },
    {
      "cell_type": "code",
      "source": [
        "tinggi_badan= float (input(\"masukkan tinggi (m) :\"))\n",
        "tinggi = (tinggi_badan)\n",
        "bmi = float (input(\"masukkan (bmi) :\"))\n",
        "berat_badan= round (bmi * (tinggi**2))\n",
        "print (berat_badan)\n"
      ],
      "metadata": {
        "colab": {
          "base_uri": "https://localhost:8080/"
        },
        "id": "sImWLQPViExp",
        "outputId": "19e43abb-598f-4ec8-cc7e-8f8d6f6facfb"
      },
      "execution_count": 2,
      "outputs": [
        {
          "output_type": "stream",
          "name": "stdout",
          "text": [
            "masukkan tinggi (m) :1.7\n",
            "masukkan (bmi) :35\n",
            "101\n"
          ]
        }
      ]
    },
    {
      "cell_type": "markdown",
      "source": [
        "NO 2"
      ],
      "metadata": {
        "id": "jhHdQ5ZtjD_w"
      }
    },
    {
      "cell_type": "code",
      "source": [
        "angkax = int (input (\"masukkan x = \"))\n",
        "rumus = round ( 2*(angkax**3)+ (2*angkax) + (15/angkax))\n",
        "print (rumus)"
      ],
      "metadata": {
        "colab": {
          "base_uri": "https://localhost:8080/"
        },
        "id": "m9D5N2PTjJEM",
        "outputId": "9df986fe-5322-425d-9d3b-ad9b2d02a74a"
      },
      "execution_count": 3,
      "outputs": [
        {
          "output_type": "stream",
          "name": "stdout",
          "text": [
            "masukkan x = 3\n",
            "65\n"
          ]
        }
      ]
    },
    {
      "cell_type": "markdown",
      "source": [
        "NO 3"
      ],
      "metadata": {
        "id": "rsZmkkncjO6A"
      }
    },
    {
      "cell_type": "code",
      "source": [
        "gaji = float(input((\"masukkan gaji anda per jam = \" )))\n",
        "jamkerja= float(input (('masukkan jam kerja anda = ')))\n",
        "gajibersih = float( gaji* (jamkerja*5))\n",
        "print(\"sebelum pajak = \" , gajibersih)\n",
        "\n",
        "# pajak\n",
        "pajak=0.14\n",
        "jumlahpajak = float(gajibersih * (pajak))\n",
        "setelah_pajak = float(gajibersih * (1 - pajak))\n",
        "print (\"setelah pajak = \" , setelah_pajak)\n",
        "\n",
        "#baju\n",
        "baju =0.1\n",
        "hasilbaju = float((setelah_pajak* baju))\n",
        "print (\"uang baju =\" ,hasilbaju)\n",
        "\n",
        "#alat\n",
        "alat =0.01\n",
        "hasilalat = float (setelah_pajak * alat)\n",
        "print (\"uang alat =\" ,hasilalat)\n",
        "\n",
        "#sedekah\n",
        "sedekah=0.25\n",
        "hasilsedekah = float ((setelah_pajak - hasilbaju - hasilalat )* sedekah)\n",
        "print (\"uang sedekah=\" ,hasilsedekah)\n",
        "\n",
        "# hasilsedekah2 = float(gajibersih/4)\n",
        "# print(hasilsedekah2)\n",
        "\n",
        "#yatim\n",
        "yatim =0.3\n",
        "hasilyatim= hasilsedekah//1000*1000*yatim\n",
        "print (\"uang yatim=\" , hasilyatim)\n",
        "\n",
        "#dufa\n",
        "dufa =0.7\n",
        "hasildufa= hasilsedekah * dufa\n",
        "print (\"uang dufa=\" , hasildufa)\n",
        "\n",
        "print(type(jumlahpajak))\n",
        "print(type(gajibersih))\n",
        "print(type(hasilbaju))\n",
        "print(type(hasilalat))\n",
        "print(type(hasilsedekah))\n",
        "print (type(hasildufa))\n"
      ],
      "metadata": {
        "colab": {
          "base_uri": "https://localhost:8080/"
        },
        "id": "A8iEPxZIjQWS",
        "outputId": "85d2f3bc-283c-478a-a238-880ad3cb21b8"
      },
      "execution_count": 4,
      "outputs": [
        {
          "output_type": "stream",
          "name": "stdout",
          "text": [
            "masukkan gaji anda per jam = 20000\n",
            "masukkan jam kerja anda = 42\n",
            "sebelum pajak =  4200000.0\n",
            "setelah pajak =  3612000.0\n",
            "uang baju = 361200.0\n",
            "uang alat = 36120.0\n",
            "uang sedekah= 803670.0\n",
            "uang yatim= 240900.0\n",
            "uang dufa= 562569.0\n",
            "<class 'float'>\n",
            "<class 'float'>\n",
            "<class 'float'>\n",
            "<class 'float'>\n",
            "<class 'float'>\n",
            "<class 'float'>\n"
          ]
        }
      ]
    }
  ]
}